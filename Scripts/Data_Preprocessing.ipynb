{
 "cells": [
  {
   "cell_type": "markdown",
   "id": "8e032247-0607-42b4-acc4-39fcf436db6c",
   "metadata": {},
   "source": [
    "# Importing Required Packages"
   ]
  },
  {
   "cell_type": "code",
   "execution_count": 5,
   "id": "193c2bd5-8c87-433e-8ea7-397b96477ae9",
   "metadata": {},
   "outputs": [],
   "source": [
    "import pandas as pd\n",
    "import numpy as np\n",
    "import pickle"
   ]
  },
  {
   "cell_type": "markdown",
   "id": "36913655-0166-48d8-9134-40ecb79b0f9e",
   "metadata": {},
   "source": [
    "# DataPreprocessing using Class & Objects"
   ]
  },
  {
   "cell_type": "code",
   "execution_count": 1,
   "id": "463026dc-1797-4316-bc9b-46066675a365",
   "metadata": {},
   "outputs": [],
   "source": [
    "class DataPreprocessor:\n",
    "\n",
    "    def __init__(self, data, is_prediction=False):\n",
    "\n",
    "        self.data = data\n",
    "        self.is_prediction = is_prediction\n",
    "\n",
    "    def drop_columns(self, columns_to_drop):\n",
    "\n",
    "        self.data.drop(columns_to_drop, axis=1, errors='ignore', inplace=True)\n",
    "\n",
    "    def fill_missing_values(self):\n",
    "\n",
    "        for col in self.data.select_dtypes(include=['int64', 'float64']).columns:\n",
    "            self.data[col].fillna(self.data[col].mean(), inplace=True)\n",
    "        for col in self.data.select_dtypes(include='object').columns:\n",
    "            self.data[col].fillna(self.data[col].mode()[0], inplace=True)\n",
    "\n",
    "    def create_feature_groups(self):\n",
    "\n",
    "        def age_category(data):\n",
    "\n",
    "            if 18 < data <= 30: return 0\n",
    "            elif 30 < data <= 40: return 1\n",
    "            elif 40 < data <= 50: return 2\n",
    "            elif 50 < data <= 64: return 3\n",
    "            else: return 4\n",
    "\n",
    "        def dependent_category(data):\n",
    "\n",
    "            if data == 0: return 0\n",
    "            elif 0 < data <= 2: return 1\n",
    "            elif 2 < data <= 3: return 2\n",
    "            else: return 3\n",
    "\n",
    "        def health_category(data):\n",
    "\n",
    "            if 0 < data <= 15: return 0\n",
    "            elif 15 < data <= 25: return 1\n",
    "            elif 25 < data <= 35: return 2\n",
    "            else: return 3\n",
    "\n",
    "        def claims(data):\n",
    "\n",
    "            if 0 < data <= 1: return 0\n",
    "            elif 1 < data <= 2: return 1\n",
    "            else: return 2\n",
    "\n",
    "        def vehicle(data):\n",
    "\n",
    "            if 0 < data <= 5: return 0\n",
    "            elif 5 < data <= 10: return 1\n",
    "            elif 10 < data <= 20: return 2\n",
    "            else: return 3\n",
    "\n",
    "        def credit(data):\n",
    "\n",
    "            if 0 < data <= 300: return 0\n",
    "            elif 300 < data <= 600: return 1\n",
    "            elif 600 < data < 800: return 2\n",
    "            else: return 3\n",
    "\n",
    "        def insurance(data):\n",
    "\n",
    "            if 0 < data <= 3: return 0\n",
    "            elif 3 < data <= 6: return 1\n",
    "            elif 6 < data < 9: return 2\n",
    "            else: return 3\n",
    "\n",
    "        self.data['Age'] = self.data['Age'].apply(age_category).astype(int)\n",
    "        self.data['Number of Dependents'] = self.data['Number of Dependents'].apply(dependent_category).astype(int)\n",
    "        self.data['Health Score'] = self.data['Health Score'].apply(health_category).astype(int)\n",
    "        self.data['Previous Claims'] = self.data['Previous Claims'].apply(claims).astype(int)\n",
    "        self.data['Vehicle Age'] = self.data['Vehicle Age'].apply(vehicle).astype(int)\n",
    "        self.data['Credit Score'] = self.data['Credit Score'].apply(credit).astype(int)\n",
    "        self.data['Insurance Duration'] = self.data['Insurance Duration'].apply(insurance).astype(int)\n",
    "\n",
    "    def replace_mappings(self):\n",
    "\n",
    "        mappings = {\n",
    "            \"Education Level\": {\"High School\": 0, \"Bachelor's\": 1, \"Master's\": 2, \"PhD\": 3},\n",
    "            \"Customer Feedback\": {\"Poor\": 0, \"Average\": 1, \"Good\": 2},\n",
    "            \"Exercise Frequency\": {\"Rarely\": 0, \"Weekly\": 1, \"Monthly\": 2, \"Daily\": 3},\n",
    "            \"Policy Type\": {\"Basic\": 0, \"Comprehensive\": 1, \"Premium\": 2}\n",
    "        }\n",
    "        self.data.replace(mappings, inplace=True)\n",
    "\n",
    "    def encode_categorical_columns(self):\n",
    "\n",
    "        mappings = {\n",
    "            \"Gender\": {\"Male\": 0, \"Female\": 1},\n",
    "            \"Marital Status\": {\"Single\": 0, \"Married\": 1},\n",
    "            \"Occupation\": {\"UnEmployed\": 0, \"Self-Employed\": 1, \"Employed\": 2},\n",
    "            \"Location\": {\"Urban\": 0, \"Suburban\": 1, \"Rural\": 2},\n",
    "            \"Smoking Status\": {\"Non-Smoker\": 0, \"Smoker\": 1},\n",
    "            \"Property Type\": {\"Apartment\": 0, \"Condo\": 1, \"House\": 2}\n",
    "        }\n",
    "\n",
    "        for col, mapping in mappings.items():\n",
    "            if col in self.data.columns:\n",
    "                self.data[col] = self.data[col].map(mapping).fillna(-1).astype(int)  \n",
    "\n",
    "    def log_transform(self, columns_to_transform):\n",
    "\n",
    "        for col in columns_to_transform:\n",
    "            self.data[f'{col}_log'] = np.log1p(self.data[col]) \n",
    "\n",
    "    def preprocess(self):\n",
    "\n",
    "        self.drop_columns(['id', 'Policy Start Date'])\n",
    "        self.fill_missing_values()\n",
    "        self.create_feature_groups()  \n",
    "        self.replace_mappings()\n",
    "        self.encode_categorical_columns()\n",
    "        self.log_transform(['Annual Income'])\n",
    "\n",
    "        encoded_data = self.data[[\n",
    "            'Age', 'Gender', 'Annual Income', 'Marital Status', 'Number of Dependents',\n",
    "            'Education Level', 'Occupation', 'Health Score', 'Location', 'Policy Type',\n",
    "            'Previous Claims', 'Vehicle Age', 'Credit Score', 'Insurance Duration',\n",
    "            'Customer Feedback', 'Smoking Status', 'Exercise Frequency', 'Property Type'\n",
    "        ]]\n",
    "\n",
    "        print(\"Processed Data Sample:\\n\", encoded_data.head())\n",
    "\n",
    "        return encoded_data"
   ]
  },
  {
   "cell_type": "code",
   "execution_count": 2,
   "id": "8169937f-8e7b-4ffa-ade3-1171ef7809e6",
   "metadata": {},
   "outputs": [
    {
     "name": "stdout",
     "output_type": "stream",
     "text": [
      "c:\\Users\\sarav\\Smart_Premium\\Smart_premium_ML\\Scripts\n"
     ]
    }
   ],
   "source": [
    "import os\n",
    "print(os.getcwd())"
   ]
  },
  {
   "cell_type": "code",
   "execution_count": 6,
   "id": "b566a387-aa19-452c-b1cd-c75c6a5cf436",
   "metadata": {},
   "outputs": [
    {
     "name": "stdout",
     "output_type": "stream",
     "text": [
      "preprocessor.pkl saved successfully.\n"
     ]
    }
   ],
   "source": [
    "_data_ = pd.read_csv(r'C:\\Users\\sarav\\Smart_Premium\\Smart_premium_ML\\Research_Data\\train.csv')\n",
    "\n",
    "preprocessor = DataPreprocessor(_data_, is_prediction=True)\n",
    "\n",
    "pickle_path = \"C:\\\\Users\\\\sarav\\\\Smart_Premium\\\\Smart_premium_ML\\\\Pickles\\\\preprocessor.pkl\"\n",
    "\n",
    "with open(pickle_path, 'wb') as file:\n",
    "    pickle.dump(preprocessor, file)\n",
    "\n",
    "print(\"preprocessor.pkl saved successfully.\")\n"
   ]
  }
 ],
 "metadata": {
  "kernelspec": {
   "display_name": "Python 3",
   "language": "python",
   "name": "python3"
  },
  "language_info": {
   "codemirror_mode": {
    "name": "ipython",
    "version": 3
   },
   "file_extension": ".py",
   "mimetype": "text/x-python",
   "name": "python",
   "nbconvert_exporter": "python",
   "pygments_lexer": "ipython3",
   "version": "3.12.9"
  }
 },
 "nbformat": 4,
 "nbformat_minor": 5
}
